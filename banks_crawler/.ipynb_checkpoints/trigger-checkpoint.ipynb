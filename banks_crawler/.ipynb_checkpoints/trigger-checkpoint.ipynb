{
 "cells": [
  {
   "cell_type": "code",
   "execution_count": 1,
   "metadata": {
    "collapsed": false,
    "deletable": true,
    "editable": true
   },
   "outputs": [
    {
     "name": "stderr",
     "output_type": "stream",
     "text": [
      "/Users/chibs/.conda/envs/ml-learning/lib/python2.7/site-packages/ipykernel/__main__.py:5: ScrapyDeprecationWarning: Importing from scrapy.xlib.pydispatch is deprecated and will no longer be supported in future Scrapy versions. If you just want to connect signals use the from_crawler class method, otherwise import pydispatch directly if needed. See: https://github.com/scrapy/scrapy/issues/1762\n"
     ]
    }
   ],
   "source": [
    "import multiprocessing\n",
    "from multiprocessing.queues import Queue\n",
    "from scrapy import  signals \n",
    "from scrapy.crawler import CrawlerProcess\n",
    "from scrapy.xlib.pydispatch import dispatcher\n",
    "from scrapy.utils.project import get_project_settings\n",
    "\n",
    "class CrawlerWorker(multiprocessing.Process):\n",
    "    def __init__(self, result_queue, spider, settings=None):\n",
    "        multiprocessing.Process.__init__(self)\n",
    "        self.settings = settings or get_project_settings()\n",
    "        self.result_queue = result_queue\n",
    "        self.spider = spider\n",
    "        self.items = []\n",
    "        dispatcher.connect(self._item_scraped, signals.item_scraped)\n",
    "\n",
    "    def _item_scraped(self, item):\n",
    "        self.items.append(item)\n",
    "\n",
    "    def run(self):\n",
    "        self.crawler_process = CrawlerProcess(self.settings)\n",
    "        crawler = self.crawler_process.create_crawler(self.spider)\n",
    "        self.crawler_process.crawl(crawler)\n",
    "        self.crawler_process.start()\n",
    "        self.result_queue.put(self.items)\n",
    "        self.crawler_process.stop()\n",
    "\n",
    "def crawl():\n",
    "    result_queue = Queue()\n",
    "    crawler = CrawlerWorker(result_queue, \"cncb\")\n",
    "    crawler.start()\n",
    "    return result_queue.get()"
   ]
  },
  {
   "cell_type": "code",
   "execution_count": 5,
   "metadata": {
    "collapsed": false,
    "deletable": true,
    "editable": true,
    "scrolled": true
   },
   "outputs": [],
   "source": [
    "result = crawl()\n",
    "import pandas as pd\n",
    "df = pd.DataFrame(map(dict,result),columns=['category', 'question', 'answer', 'language'])\n",
    "df.to_csv('cncb-qna.csv',encoding='utf-8',index=False)"
   ]
  }
 ],
 "metadata": {
  "hide_input": false,
  "kernelspec": {
   "display_name": "Python 2",
   "language": "python",
   "name": "python2"
  },
  "language_info": {
   "codemirror_mode": {
    "name": "ipython",
    "version": 2
   },
   "file_extension": ".py",
   "mimetype": "text/x-python",
   "name": "python",
   "nbconvert_exporter": "python",
   "pygments_lexer": "ipython2",
   "version": "2.7.13"
  }
 },
 "nbformat": 4,
 "nbformat_minor": 2
}
